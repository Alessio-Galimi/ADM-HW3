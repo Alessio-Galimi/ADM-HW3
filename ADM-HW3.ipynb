{
 "cells": [
  {
   "cell_type": "code",
   "execution_count": 25,
   "metadata": {},
   "outputs": [],
   "source": [
    "from bs4 import BeautifulSoup\n",
    "import requests"
   ]
  },
  {
   "cell_type": "code",
   "execution_count": 67,
   "metadata": {
    "scrolled": false
   },
   "outputs": [],
   "source": [
    "#number_of_pages=300\n",
    "#for page in range(1,number_of_pages+1):\n",
    "    #url=\"https://www.goodreads.com/list/show/1.Best_Books_Ever?page=\"+str(page)\n",
    "    #cnt = requests.get(url)\n",
    "    #soup = BeautifulSoup(cnt.content, features=\"lxml\")\n",
    "    #links = soup.find_all('a',href=True)\n",
    "    #f = open(\"book_list.txt\",'a')\n",
    "    #n=0\n",
    "    #for link in links:\n",
    "        #fullLink = link.get('href')\n",
    "        #if fullLink[0:11]==\"/book/show/\":\n",
    "            #n=n+1\n",
    "            #if n%2==0:\n",
    "                #fullLink=\"https://www.goodreads.com/\"+fullLink+\"\\n\"\n",
    "                #f.write(fullLink)\n",
    "    #f.close()\n",
    "\n",
    "        "
   ]
  },
  {
   "cell_type": "code",
   "execution_count": null,
   "metadata": {},
   "outputs": [],
   "source": [
    "#!pip3 install selenium\n",
    "#!pip3 install webdriver_manager\n",
    "from selenium import webdriver\n",
    "from selenium.webdriver.common.keys import Keys\n",
    "from webdriver_manager.firefox import GeckoDriverManager\n",
    "driver = webdriver.Firefox(executable_path=GeckoDriverManager().install())"
   ]
  },
  {
   "cell_type": "code",
   "execution_count": null,
   "metadata": {
    "scrolled": false
   },
   "outputs": [],
   "source": [
    "f=open(\"book_list.txt\",\"r\")\n",
    "n=0 \n",
    "done=0\n",
    "for url in f:\n",
    "    n=n+1\n",
    "    if n>done:\n",
    "        driver.get(url)\n",
    "        x=driver.page_source\n",
    "        f = open(\"book\"+str(n)+\".html\", \"w\",encoding=\"utf-8\")\n",
    "        f.write(x)\n",
    "        f.close()\n",
    "f.close()"
   ]
  },
  {
   "cell_type": "code",
   "execution_count": 31,
   "metadata": {},
   "outputs": [],
   "source": [
    "f.close()"
   ]
  }
 ],
 "metadata": {
  "kernelspec": {
   "display_name": "Python 3",
   "language": "python",
   "name": "python3"
  },
  "language_info": {
   "codemirror_mode": {
    "name": "ipython",
    "version": 3
   },
   "file_extension": ".py",
   "mimetype": "text/x-python",
   "name": "python",
   "nbconvert_exporter": "python",
   "pygments_lexer": "ipython3",
   "version": "3.8.3"
  }
 },
 "nbformat": 4,
 "nbformat_minor": 4
}
